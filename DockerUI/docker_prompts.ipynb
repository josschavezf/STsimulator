{
 "cells": [
  {
   "cell_type": "code",
   "execution_count": 11,
   "metadata": {},
   "outputs": [],
   "source": [
    "import glob\n",
    "import itertools\n",
    "from math import isclose\n",
    "import logging\n",
    "import os\n",
    "import shutil\n",
    "import sys\n",
    "\n",
    "import numpy as np\n",
    "import pandas as pd\n",
    "import rpy2.robjects as robjects\n",
    "from rpy2.robjects.packages import importr\n",
    "from rpy2.rinterface_lib.callbacks import logger as rpy2_logger\n",
    "\n",
    "rpy2_logger.setLevel(logging.ERROR)\n",
    "base = importr('base')\n"
   ]
  },
  {
   "cell_type": "code",
   "execution_count": 8,
   "metadata": {},
   "outputs": [],
   "source": [
    "valid_yes_no = ['y', 'n']\n",
    "workdir_files = [f for f in glob.glob('working_directory' + '/**', recursive=True) if os.path.isfile(f)]"
   ]
  },
  {
   "cell_type": "markdown",
   "metadata": {},
   "source": [
    "# Helper functions"
   ]
  },
  {
   "cell_type": "code",
   "execution_count": 9,
   "metadata": {},
   "outputs": [],
   "source": [
    "def print_workdir_files():\n",
    "    if len(workdir_files) == 0:\n",
    "        raise ValueError('There are no valid files in the working directory mounted to this container.')\n",
    "    print('\\tAvailable files in working directory')\n",
    "    print('\\t--------------------------------')\n",
    "    for i, file in enumerate(workdir_files):\n",
    "        print(f\"\\t{i+1}: {''.join(file.split('working_directory/')[1:])}\")\n",
    "\n",
    "def print_r_objects(rdata):\n",
    "    if len(rdata) == 0:\n",
    "        raise ValueError('There are no valid R objects loaded from this file.')\n",
    "    print('\\n')\n",
    "    print('\\tAvailable R objects')\n",
    "    print('\\t--------------------------------')\n",
    "    for i, o in enumerate(rdata):\n",
    "        print(f\"\\t{i+1}: {o}\")\n",
    "    print(\"\\n\")\n",
    "    r_obj_index = int(input(\"\\tWhich object is the expression data: \\t\").lower())\n",
    "    return rdata[r_obj_index - 1]\n",
    "\n",
    "def isfloat(num):\n",
    "    try:\n",
    "        float(num)\n",
    "        return True\n",
    "    except ValueError:\n",
    "        return False\n"
   ]
  },
  {
   "cell_type": "markdown",
   "metadata": {},
   "source": [
    "# question0_1\n",
    "- determines workflow"
   ]
  },
  {
   "cell_type": "code",
   "execution_count": null,
   "metadata": {},
   "outputs": [],
   "source": [
    "print(\"\\n\")\n",
    "valid_question0_1 = ['1', '2', '3']\n",
    "print(\"\\tAvailable tasks \")\n",
    "print(\"\\t-----------------------------------\")\n",
    "print(\"\\n\")\n",
    "print(\"\\t1) I want to download a pre-simulated spatial transcriptomics dataset.\")\n",
    "print(\"\\t2) I want to generate a parameter file using command line prompts.\")\n",
    "print(\"\\t3) I have a parameter file and want to run a simulation.\")\n",
    "print('\\n')\n",
    "\n",
    "question0_1 = input(\"\\tSelect your task (1/2/3): \\t\").lower()\n",
    "if question0_1 not in valid_question0_1:\n",
    "    raise ValueError(f'Please enter 1, 2, or 3 to select a dataset. You entered {question0_1}') \n",
    "print(\"\\n\")"
   ]
  },
  {
   "cell_type": "markdown",
   "metadata": {},
   "source": [
    "# Workflow1\n",
    "- Download pre-simulated data set"
   ]
  },
  {
   "cell_type": "code",
   "execution_count": null,
   "metadata": {},
   "outputs": [],
   "source": [
    "if question0_1 == '1':\n",
    "    question1_1_filepaths = {\n",
    "        '1': 'sim_fake1.tsv',\n",
    "        '2': 'sim_fake2.tsv',\n",
    "        '3': 'sim_fake3.tsv',\n",
    "    }\n",
    "    print(\"\\tAvailable data sets \")\n",
    "    print(\"\\t-----------------------------------\")\n",
    "    print(\"\\n\")\n",
    "    print(\"\\t1) Simulated data for 10,000 genes in 10,000 cells of X cell types, using mouse brain data profiled by SeqFISH+ as reference.\")\n",
    "    print(\"\\t2) Simulated data for XX genes in 10,000 cells of X cell types, using human ovarian cancer data profiled by MERFISH as reference.\")\n",
    "    print(\"\\t3) Simulated data for 4,751 genes in 10,000 cells of 6 cell types on a unit square, using normal breast data profiled by snRNAseq as reference.\")\n",
    "    print('\\n')\n",
    "    question1_1 = input(\"\\tWhich dataset do you want to download (1/2/3)?  \\t\").lower()\n",
    "    if question1_1 not in question1_1_filepaths:\n",
    "        raise ValueError(f'Please enter 1, 2, or 3 to select a dataset. You entered {question1_1}') \n",
    "    print(\"\\n\")\n",
    "    shutil.copyfile(f'simulated_data/{question1_1_filepaths[question1_1]}', f'/working_directory/{question1_1_filepaths[question1_1]}')\n",
    "    print(f'\\n\\tSaved simulated data: {question1_1_filepaths[question1_1]} to your working directory.')\n",
    "\n",
    "    sys.exit()"
   ]
  },
  {
   "cell_type": "markdown",
   "metadata": {},
   "source": [
    "# Workflow3\n",
    "- Use premade config file"
   ]
  },
  {
   "cell_type": "code",
   "execution_count": null,
   "metadata": {},
   "outputs": [],
   "source": [
    "# this is first because question2 is much longer\n",
    "if question0_1 == '3':\n",
    "    sys.exit()"
   ]
  },
  {
   "cell_type": "markdown",
   "metadata": {},
   "source": [
    "# Workflow2\n",
    "- Generate a simulation parameter file."
   ]
  },
  {
   "cell_type": "markdown",
   "metadata": {},
   "source": [
    "### Question2_1\n",
    "- Input expression data"
   ]
  },
  {
   "cell_type": "code",
   "execution_count": null,
   "metadata": {},
   "outputs": [],
   "source": [
    "# Select or read in expression data file\n",
    "parameters = {\n",
    "    'path_to_input_dir': 'working_directory/'\n",
    "}\n",
    "\n",
    "# QUESTION2_1\n",
    "question2_1_filepaths = {\n",
    "    '1': 'expression_data/SeqFishPlusCortexFilter_expr.Rdata',\n",
    "    '2': 'expression_data/ovariancancer.Rdata',\n",
    "    '3': 'expression_data/snRNAseq_breast_expr_matrix.RData',\n",
    "    '4': 'user_input',\n",
    "}\n",
    "\n",
    "print(\"\\tAvailable expression data for simulation\")\n",
    "print(\"\\t-----------------------------------\")\n",
    "print(\"\\n\")\n",
    "print(\"\\t1) Normal mouse brain SeqFISH+ data\")\n",
    "print(\"\\t2) Ovarian cancer MERFISH data\")\n",
    "print(\"\\t3) Normal human breast snRNAseq data\")\n",
    "print(\"\\t4) User input\")\n",
    "print('\\n')\n",
    "question2_1 = input(\"\\tWhat expression data do you want to use for simulation? \")\n",
    "print('\\n')\n",
    "if question2_1 not in question2_1_filepaths:\n",
    "    # this probably should ultimately be a while loop\n",
    "    raise ValueError(f'Please enter 1, 2, 3, or 4 to select an expression data set. You entered {question2_1}') \n",
    "\n",
    "if question2_1_filepaths[question2_1] != 'user_input':\n",
    "    question2_1_download = input(\"\\tWould you like to download this data table locally (y/n)?  \").lower()\n",
    "    if question2_1_download in valid_yes_no:\n",
    "        if question2_1_download == 'y':\n",
    "            #TODO: update with real data\n",
    "            shutil.copyfile(f'{question2_1_filepaths[question2_1]}', f'/working_directory/{question2_1_filepaths[question2_1]}')\n",
    "            print(f'\\n\\tSaved expression data: {question2_1_filepaths[question2_1]} to your working directory.')\n",
    "else:\n",
    "    print_workdir_files()\n",
    "    print('\\n')\n",
    "    question2_1_userinput = input(f\"\\tWhich file are you using as the input expression data (1-{len(workdir_files)}): \")\n",
    "    question2_1_filepaths['4'] = workdir_files[int(question2_1_userinput)-1]\n",
    "\n",
    "parameters['expression_data_file'] = question2_1_filepaths[question2_1]"
   ]
  },
  {
   "cell_type": "code",
   "execution_count": null,
   "metadata": {},
   "outputs": [],
   "source": [
    "# Question2_1 continued\n",
    "# Identify expression data file type\n",
    "\n",
    "file_type_dict = {\n",
    "        '.rdata': 'Rdata',\n",
    "        '.tsv': '\\t',\n",
    "        '.csv': ','\n",
    "    }\n",
    "expression_data_file_extension = os.path.splitext(parameters['expression_data_file'])[-1].lower()\n",
    "if expression_data_file_extension not in file_type_dict:\n",
    "    raise ValueError('Please enter an .Rdata, .tsv, or .csv file for expression data.')\n",
    "\n",
    "parameters['expression_data_file_type'] = file_type_dict[expression_data_file_extension]"
   ]
  },
  {
   "cell_type": "code",
   "execution_count": null,
   "metadata": {},
   "outputs": [],
   "source": [
    "# Question2_1 continued\n",
    "# Read expression data and identify cell types\n",
    "if parameters['expression_data_file_type'] == 'Rdata': \n",
    "    loaded_r_obj = robjects.r['load'](parameters['expression_data_file'])\n",
    "    r_obj_key = print_r_objects(loaded_r_obj)\n",
    "    expression_data_r = robjects.globalenv[r_obj_key]\n",
    "    expression_data_r_names = expression_data_r.names\n",
    "    if expression_data_r_names == robjects.rinterface.NULL:\n",
    "        expression_data_r = base.as_matrix(expression_data_r)\n",
    "        expression_data_r_names = expression_data_r.names\n",
    "    expression_data_cell_types = list(set(expression_data_r_names[1]))\n",
    "else:\n",
    "    expression_data_cell_types = pd.read_csv(parameters['expression_data_file'], sep=parameters['expression_data_file_type'], index_col=0).columns\n",
    "\n",
    "print('\\n')\n",
    "print(f'\\tUnique cell types detected in expression data: {len(expression_data_cell_types)}')\n",
    "\n",
    "parameters['expression_data_cell_types'] = expression_data_cell_types"
   ]
  },
  {
   "cell_type": "markdown",
   "metadata": {},
   "source": [
    "### Question2_2\n",
    "- Input spatial data"
   ]
  },
  {
   "cell_type": "code",
   "execution_count": null,
   "metadata": {},
   "outputs": [],
   "source": [
    "question2_2_filepaths = {\n",
    "    '1': 'NULL',\n",
    "    '2': 'MERFISH_spatial_map',\n",
    "    '3': 'SeqFISH_spatial_map',\n",
    "    '4': 'user_input',\n",
    "}\n",
    "\n",
    "print(\"\\n\")\n",
    "print(\"\\tAvailable spatial data for simulation\")\n",
    "print(\"\\t-----------------------------------\")\n",
    "print(\"\\n\")\n",
    "print(\"\\t1) No data (use parameters to simulate)\")\n",
    "print(\"\\t2) Matched spatial map of MERFISH data\")\n",
    "print(\"\\t3) Matched spatial map of SeqFISH+ data (allow download)\")\n",
    "print(\"\\t4) User input\")\n",
    "print('\\n')\n",
    "question2_2 = input(\"\\tWhat spatial data do you want to use for simulation? \")\n",
    "print('\\n')\n",
    "if question2_2 not in question2_2_filepaths:\n",
    "    # this probably should ultimately be a while loop\n",
    "    raise ValueError(f'Please enter 1, 2, 3, or 4 to select an expression data set. You entered {question2_2}') \n"
   ]
  },
  {
   "cell_type": "code",
   "execution_count": null,
   "metadata": {},
   "outputs": [],
   "source": [
    "if question2_2 != '1':\n",
    "    parameters['simulate_spatial_data'] = 'FALSE'\n",
    "    if question2_2_filepaths[question2_2] != 'user_input':\n",
    "        question2_2_download = input(\"\\tWould you like to download this data table locally (y/n)?  \").lower()\n",
    "        if question2_2_download in valid_yes_no:\n",
    "            if question2_2_download == 'y':\n",
    "                #TODO: update with real data\n",
    "                shutil.copyfile(f'spatial_data/{question2_2_filepaths[question2_2]}', f'/working_directory/{question2_2_filepaths[question2_2]}')\n",
    "                print(f'\\n\\tSaved spatial data: {question2_2_filepaths[question2_2]} to your working directory.')\n",
    "    else:\n",
    "        print_workdir_files()\n",
    "        print('\\n')\n",
    "        question2_2_userinput = input(f\"\\tWhich file are you using as the input spatial data (1-{len(workdir_files)}): \")\n",
    "        question2_2_filepaths['4'] = workdir_files[int(question2_2_userinput)-1]\n",
    "else:\n",
    "    parameters['simulate_spatial_data'] = 'TRUE'\n",
    "\n",
    "parameters['spatial_data_file'] = question2_2_filepaths[question2_2]\n"
   ]
  },
  {
   "cell_type": "markdown",
   "metadata": {},
   "source": [
    "#### Question2_4\n",
    "- Simulate spatial map using parameters."
   ]
  },
  {
   "cell_type": "code",
   "execution_count": null,
   "metadata": {},
   "outputs": [],
   "source": [
    "if question2_2 == '1':\n",
    "    # Simulate spatial map using parameters.\n",
    "    question2_4_1 = input(\"\\tNumber of simulated cells [default =10,000]: \\t\").lower()\n",
    "    \n",
    "    if question2_4_1 == '':\n",
    "        question2_4_1 = '10000'\n",
    "        print(f\"\\tUsing default: {question2_4_1}\")\n",
    "\n",
    "    if not question2_4_1.isnumeric():\n",
    "        raise ValueError(f'Please enter an integer for the number of simulated cells. You entered {question2_4_1}')\n",
    "    \n",
    "    parameters['num_simulated_cells'] = question2_4_1\n",
    "\n",
    "    print(\"\\n\")\n",
    "    question2_4_2 = input(\"\\tNumber of regions [default = 2; suggested: 1-10]: \\t\").lower()\n",
    "    \n",
    "    if question2_4_2 == '':\n",
    "        question2_4_2 = '2'\n",
    "        print(f\"\\tUsing default: {question2_4_2}\")\n",
    "\n",
    "    if not question2_4_2.isnumeric():\n",
    "        raise ValueError(f'Please enter an integer for the number of regions. You entered {question2_4_2}')\n",
    "\n",
    "    parameters['num_regions'] = question2_4_2\n",
    "\n",
    "    print(\"\\n\")\n",
    "    question2_4_3a = input(\"\\tInput custom cell-type proportions in each region (y/n)? [default: all regions equal to cell-type proportions of the input expression data] \\t\").lower()\n",
    "    \n",
    "    if question2_4_3a == 'n' or question2_4_3a == '':\n",
    "        print('\\tUsing default cell-type proportions.')\n",
    "        print('\\n')\n",
    "        parameters['custom_cell_type_proportions'] = 'FALSE'\n",
    "    else:\n",
    "        parameters['custom_cell_type_proportions'] = 'TRUE'\n",
    "        question2_4_3 = []\n",
    "\n",
    "        expression_data_cell_types_proportions = []\n",
    "        cell_types = list(set([t.split('.')[0] for t in expression_data_cell_types]))\n",
    "        print('\\n')\n",
    "        print('\\tCell types detected: ', len(cell_types))\n",
    "    \n",
    "        p_index = 0\n",
    "        for r in range(0, int(parameters['num_regions'])):\n",
    "            region = r+1\n",
    "            res = {\n",
    "                'region': region,\n",
    "                'proportions': [],\n",
    "            }\n",
    "            print('\\n')\n",
    "            print(f'\\tRegion {region} (Must sum up to 1)')\n",
    "            print('\\t--------------')\n",
    "            for cell_type in cell_types:\n",
    "                cell_type_proportion = input(f'\\tProportion of cell type \"{cell_type}\" in region {region}: ')\n",
    "                if cell_type_proportion == '':\n",
    "                    cell_type_proportion = 0\n",
    "                else:\n",
    "                    cell_type_proportion = float(cell_type_proportion)\n",
    "                res['proportions'].append(cell_type_proportion)\n",
    "                parameters[f'cell_type_proportion_{p_index}'] = f'{region},{cell_type},{cell_type_proportion}'\n",
    "                p_index += 1\n",
    "            total_proportions = sum(res['proportions'])\n",
    "            print('\\n')\n",
    "            print(f'\\tSum of cell type proportions in region {region}: {total_proportions}')\n",
    "            expression_data_cell_types_proportions.append(res)\n",
    "            if not isclose(total_proportions, 1):\n",
    "                raise ValueError('Cell type proportions for a given region must sum up to 1.')\n",
    "\n",
    "    question2_4_4 = input(\"\\tSpecify cell-cell inhibition/attraction (y/n)? [default = NULL]\\t\").lower()\n",
    "    \n",
    "    if question2_4_4 == 'n' or question2_4_4 == '':\n",
    "        print('\\tUsing default NULL.')\n",
    "        print('\\n')\n",
    "        parameters['custom_cell_location_interactions'] = 'FALSE'\n",
    "    else:\n",
    "        parameters['custom_cell_location_interactions'] = 'TRUE'\n",
    "        question2_4_4 = []\n",
    "        #TODO: prompts for custom cell location interactions\n",
    "    \n",
    "    question2_4_5 = input(\"\\tThis parameter adjusts cells to be evenly distributed on a slide (rxange: 0-1). [default = 0]\\t\").lower()\n",
    "    \n",
    "    if question2_4_5 == '':\n",
    "        print('\\tUsing default 0.')\n",
    "        print('\\n')\n",
    "        question2_4_5 = '0'\n",
    "\n",
    "    if not question2_4_5.isnumeric():\n",
    "        raise ValueError(f'Please enter a value between 0 and 1.')\n",
    "\n",
    "    parameters['cell_even_distribution'] = question2_4_5\n",
    "\n",
    "    question2_4_6 = input(\"\\tCells closer than this cutoff will be considered overlapping to each other and all but one will be removed (range: 0-0.1 of the slide length/width) [default = 0.02]:\\t\")\n",
    "    \n",
    "    if question2_4_6 == '':\n",
    "        print('\\tUsing default 0.02')\n",
    "        print('\\n')\n",
    "        question2_4_6 = '0.02'\n",
    "\n",
    "    if not isfloat(question2_4_6):\n",
    "        raise ValueError('Please enter a value between 0 and 0.1')\n",
    "        \n",
    "    parameters['cell_overlap_cutoff'] = question2_4_6"
   ]
  },
  {
   "cell_type": "markdown",
   "metadata": {},
   "source": [
    "### Question2_5"
   ]
  },
  {
   "cell_type": "code",
   "execution_count": null,
   "metadata": {},
   "outputs": [],
   "source": [
    "if question2_2 != '1':\n",
    "    print('\\n')\n",
    "    question2_5 = input(\"\\tDo you want to simulate new cells (y/n)? (The alternative is to simulate new expression data for existing cells).\\t\").lower()\n",
    "\n",
    "    if question2_5 not in valid_yes_no:\n",
    "        raise ValueError(\"Please enter y/n.\")\n",
    "    \n",
    "    if question2_5 == 'y':\n",
    "        print('\\n')\n",
    "        question2_5_1 = input(\"\\tNumber of simulated cells [default =10,000]: \\t\").lower()\n",
    "        \n",
    "        if question2_5_1 == '':\n",
    "            question2_5_1 = '10000'\n",
    "            print(f\"\\tUsing default: {question2_5_1}\")\n",
    "\n",
    "        if not question2_5_1.isnumeric():\n",
    "            raise ValueError(f'Please enter an integer for the number of simulated cells. You entered {question2_4_1}')\n",
    "        \n",
    "        parameters['num_simulated_cells'] = question2_5_1\n",
    "\n",
    "        print(\"\\n\")\n",
    "        print(\"\\tAvailable methods for determining window on existing ST data\")\n",
    "        print(\"\\t-----------------------------------\")\n",
    "        print(\"\\n\")\n",
    "        print(\"\\t1) network\")\n",
    "        print(\"\\t2) rectangle\")\n",
    "        print(\"\\t3) convex\")\n",
    "        print('\\n')\n",
    "\n",
    "        question2_5_2 = input(\"\\tMethod for determining window on existing ST data (1/2/3) [default = network]: \\t\").lower()\n",
    "        valid_question2_5_2 = {\n",
    "            \"1\": \"network\", \n",
    "            \"2\": \"rectangle\", \n",
    "            \"3\": \"convex\"\n",
    "        }\n",
    "        \n",
    "        if question2_5_2 == '':\n",
    "            question2_5_2 = '1'\n",
    "            print(f\"\\tUsing default: {valid_question2_5_2[question2_5_2]}\")\n",
    "\n",
    "        if not question2_5_2.isnumeric():\n",
    "            raise ValueError(f'Please enter an integer for the number of simulated cells. You entered {question2_4_1}')\n",
    "        \n",
    "        parameters['window_method'] = valid_question2_5_2[question2_5_2]\n"
   ]
  },
  {
   "cell_type": "markdown",
   "metadata": {},
   "source": [
    "### Question2_6"
   ]
  },
  {
   "cell_type": "code",
   "execution_count": 5,
   "metadata": {},
   "outputs": [
    {
     "ename": "SyntaxError",
     "evalue": "(unicode error) 'unicodeescape' codec can't decode bytes in position 0-1: truncated \\UXXXXXXXX escape (1587421496.py, line 28)",
     "output_type": "error",
     "traceback": [
      "\u001b[0;36m  Cell \u001b[0;32mIn[5], line 28\u001b[0;36m\u001b[0m\n\u001b[0;31m    question2_6_3 = input(\"\\Use file for the estimated Gaussian Copula for gene-gene correlation of your expression data [default = NULL]\\t\").lower()\u001b[0m\n\u001b[0m                                                                                                                                            ^\u001b[0m\n\u001b[0;31mSyntaxError\u001b[0m\u001b[0;31m:\u001b[0m (unicode error) 'unicodeescape' codec can't decode bytes in position 0-1: truncated \\UXXXXXXXX escape\n"
     ]
    }
   ],
   "source": [
    "print(\"\\n\")\n",
    "print('\\t**** Provide simulation parameters for expression profiles ****')\n",
    "print(\"\\n\")\n",
    "question2_6_1 = input(\"\\tSequencing depth ratio between simulated  and reference data [default = 1]? \\t\").lower()\n",
    "  \n",
    "if question2_6_1 == '':\n",
    "        question2_6_1 = '1'\n",
    "        print('\\n\\tUsing default: ', question2_6_1)\n",
    "\n",
    "if not question2_6_1.isnumeric():\n",
    "    raise ValueError(f'Please enter a value between 0 and 1.')\n",
    "\n",
    "parameters['expr_depth_ratio'] = question2_6_1\n",
    "\n",
    "print(\"\\n\")\n",
    "question2_6_2 = input(\"\\tDo you want to mimic gene-gene correlation of the reference data (y/n)? [default: n, simulates independent genes]\\t\").lower()\n",
    "\n",
    "if question2_6_2 == '':\n",
    "    question2_6_2 = 'n'\n",
    "    print('\\n\\tUsing default: ', question2_6_2)\n",
    "\n",
    "if question2_6_2 not in valid_yes_no:\n",
    "    raise ValueError('Please enter y/n.')\n",
    "\n",
    "if question2_6_2 == 'n':\n",
    "    parameters['gene_cor'] = 'FALSE'\n",
    "else:\n",
    "    parameters['gene_cor'] = 'TRUE'\n",
    "    print('\\n')\n",
    "    print_workdir_files()\n",
    "    print('\\n')\n",
    "    question2_6_3 = input(\"\\tUse file for the estimated Gaussian Copula for gene-gene correlation of your expression data [default = NULL]\\t\").lower()\n",
    "    if question2_6_3 == '':\n",
    "        question2_6_3 = 'NULL'\n",
    "        print('\\n\\tUsing default: ', question2_6_2)\n",
    "    elif not question2_6_3.isnumeric():\n",
    "        raise ValueError('Please select a file.')\n",
    "    else:\n",
    "        question2_6_3 = workdir_files[int(question2_6_3)-1]\n",
    "\n",
    "    parameters['copula_input'] = ''.join(question2_6_3.split('working_directory/')[1:])"
   ]
  },
  {
   "cell_type": "markdown",
   "metadata": {},
   "source": [
    "### Question2_7"
   ]
  },
  {
   "cell_type": "code",
   "execution_count": 6,
   "metadata": {},
   "outputs": [],
   "source": [
    "# question2_7\n",
    "print(\"\\n\")\n",
    "question2_7 = input(\"\\tNumber of simulated data sets [default = 1]: \\t\").lower()\n",
    "\n",
    "if question2_7 == '':\n",
    "    question2_7 = '1'\n",
    "    print(f\"\\tUsing default: {question2_7}\")\n",
    "\n",
    "if not question2_7.isnumeric():\n",
    "    raise ValueError(f'Please enter an integer for the number of simulated data sets. You entered {question2_7}')\n",
    "\n",
    "parameters['num_simulated_datasets'] = question2_7"
   ]
  },
  {
   "cell_type": "markdown",
   "metadata": {},
   "source": [
    "### Question2_8"
   ]
  },
  {
   "cell_type": "code",
   "execution_count": null,
   "metadata": {},
   "outputs": [],
   "source": [
    "# question2_8\n",
    "print(\"\\n\")\n",
    "question2_8 = input(\"\\tSpecify an umbrella seed for reproducible simulation [default = 123]: \\t\").lower()\n",
    "\n",
    "if question2_8 == '':\n",
    "    question2_8 = '123'\n",
    "    print(f\"\\tUsing default: {question2_8}\")\n",
    "\n",
    "if not question2_8.isnumeric():\n",
    "    raise ValueError(f'Please enter an integer for the umbrella seed. You entered {question2_8}')\n",
    "\n",
    "parameters['parent_simulation_seed'] = question2_8\n",
    "\n",
    "simulation_seeds = [str(int(parameters['parent_simulation_seed']) + i) for i in range(0, int(parameters['num_simulated_datasets']))]\n",
    "parameters['simulation_seed_for_each_dataset'] = ','.join(simulation_seeds)"
   ]
  },
  {
   "cell_type": "markdown",
   "metadata": {},
   "source": [
    "# Save parameter file"
   ]
  },
  {
   "cell_type": "code",
   "execution_count": 7,
   "metadata": {},
   "outputs": [
    {
     "name": "stdout",
     "output_type": "stream",
     "text": [
      "\n",
      "\n"
     ]
    }
   ],
   "source": [
    "print('\\n')\n",
    "save_param_file = input(\"\\tSave parameters for future use (y/n)? \").lower()\n",
    "\n",
    "if save_param_file == 'y':\n",
    "    parameter_series = pd.Series(parameters, name='value')\n",
    "    parameter_series.index.name = 'parameters'\n",
    "    parameter_series.reset_index()\n",
    "\n",
    "    os.makedirs(f'working_directory/parameter_files', exist_ok=True) \n",
    "    parameter_file_name = input(\"\\n\\tName this parameter file [default='parameter_file.tsv']: \").lower()\n",
    "\n",
    "    if parameter_file_name == '':\n",
    "        parameter_file_name = 'parameter_file'\n",
    "        print('\\tUsing default: ', parameter_file_name)\n",
    "\n",
    "    pd.DataFrame(parameter_series).to_csv(f'working_directory/parameter_files/{parameter_file_name}.tsv', sep='\\t')\n",
    "\n",
    "    print(f'\\n\\tSaved parameter file for future use in your working directory: parameter_files/{parameter_file_name}.tsv')\n",
    "\n",
    "\n",
    "\n",
    "# if question0_1 == '3':\n",
    "    # Use a parameter file for simulation.\n",
    "\n"
   ]
  },
  {
   "cell_type": "code",
   "execution_count": 1,
   "metadata": {},
   "outputs": [
    {
     "name": "stdout",
     "output_type": "stream",
     "text": [
      "[NbConvertApp] Converting notebook docker_prompts.ipynb to script\n",
      "[NbConvertApp] Writing 18501 bytes to docker_prompts.py\n"
     ]
    }
   ],
   "source": [
    "try:\n",
    "    !jupyter nbconvert --to script docker_prompts.ipynb\n",
    "except NameError:\n",
    "    print('\\n')\n",
    "    print('\\tFinished')"
   ]
  },
  {
   "cell_type": "code",
   "execution_count": null,
   "metadata": {},
   "outputs": [],
   "source": []
  }
 ],
 "metadata": {
  "kernelspec": {
   "display_name": "st_simulator",
   "language": "python",
   "name": "st_simulator"
  },
  "language_info": {
   "codemirror_mode": {
    "name": "ipython",
    "version": 3
   },
   "file_extension": ".py",
   "mimetype": "text/x-python",
   "name": "python",
   "nbconvert_exporter": "python",
   "pygments_lexer": "ipython3",
   "version": "3.9.16"
  },
  "orig_nbformat": 4
 },
 "nbformat": 4,
 "nbformat_minor": 2
}
